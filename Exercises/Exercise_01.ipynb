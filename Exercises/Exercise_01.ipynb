{
 "cells": [
  {
   "cell_type": "markdown",
   "metadata": {},
   "source": [
    "# Solving exercises 02"
   ]
  },
  {
   "cell_type": "markdown",
   "metadata": {},
   "source": [
    "## Check sign **[1.1]**\n",
    "\n",
    "Ask the user to input a number and check if this number is **positive**, **negative** or **zero** and print it."
   ]
  },
  {
   "cell_type": "code",
   "execution_count": null,
   "metadata": {},
   "outputs": [],
   "source": [
    "number = int(input(f\"Enter a number: \"))\n",
    "\n",
    "if number > 0:\n",
    "    print(f\"The number {number} is positive.\")\n",
    "elif number == 0:\n",
    "    print(f\"The number {number} is 0.\")\n",
    "else:\n",
    "    print(f\"The number {number} is negative.\")\n"
   ]
  },
  {
   "cell_type": "markdown",
   "metadata": {},
   "source": [
    "---\n",
    "## Smallest **[1.2]**\n",
    "\n",
    "Ask the user to input two numbers and check which one is the smallest and print it out.   "
   ]
  },
  {
   "cell_type": "code",
   "execution_count": null,
   "metadata": {},
   "outputs": [
    {
     "name": "stdout",
     "output_type": "stream",
     "text": [
      "The two numbers are equals, please enter two different numbers\n"
     ]
    }
   ],
   "source": [
    "number1, number2 = input(f\"Enter two numbers: \").split()\n",
    "\n",
    "\n",
    "if number1 > number2:\n",
    "    print(f\"Number {number2} is smaller.\")\n",
    "elif number1 == number2:\n",
    "    print(f\"The two numbers are equals, please enter two different numbers.\")\n",
    "else:\n",
    "    print(f\"Number {number1} is smaller.\")\n"
   ]
  },
  {
   "cell_type": "markdown",
   "metadata": {},
   "source": [
    "---\n",
    "## Right angle **[1.2]**\n",
    "\n",
    "Ask the user to input three angles and check if the triangle has a right angle. Your code should make sure that all three angles are valid and make up a triangle."
   ]
  },
  {
   "cell_type": "code",
   "execution_count": null,
   "metadata": {},
   "outputs": [],
   "source": [
    "angle1, angle2, angle3 = map(int,input(f\"Enter three angles: \").split())\n",
    "\n",
    "if (angle1 == 90 or angle2 == 90 or angle3 == 90) and (angle1 + angle2 + angle3 == 180):\n",
    "    print(\"The triangle is a right triangle\")\n",
    "elif angle1 + angle2 + angle3 != 180:\n",
    "    print(f\"The triangle angles sizes are incorrect\")\n",
    "else:\n",
    "    print(f\"The triangle is not a right triangle\")"
   ]
  },
  {
   "cell_type": "markdown",
   "metadata": {},
   "source": [
    "----\n",
    "## Medicine **[1.4]**\n",
    "\n",
    "The information in the following table is stated in a medicine package. Also it is stated that for children weight is more important than age.\n",
    "\n",
    "<table align=\"left\">\n",
    "<thead>\n",
    "    <tr>\n",
    "        <th></th>\n",
    "        <th>Age</th>\n",
    "        <th>Number of pills</th>\n",
    "    </tr>\n",
    "</thead>\n",
    "\n",
    "<tbody>\n",
    "  <tr>\n",
    "    <td>Adults & adolescent <br>over 40 kg</td>\n",
    "    <td>over 12 years</td>\n",
    "    <td>1-2</td>\n",
    "  </tr>\n",
    "\n",
    "  <tr>\n",
    "    <td>Children 26-40 kg</td>\n",
    "    <td>7-12 years</td>\n",
    "    <td>1/2-1</td>\n",
    "  </tr>\n",
    "\n",
    "  <tr>\n",
    "    <td>Children 15-25 kg</td>\n",
    "    <td>3-7 years</td>\n",
    "    <td>1/2</td>\n",
    "  </tr>\n",
    "</tbody>\n",
    "</table>"
   ]
  },
  {
   "cell_type": "markdown",
   "metadata": {},
   "source": [
    "Let the user input an **age** and a **weight**, the program should recommend the number of pills for the user."
   ]
  },
  {
   "cell_type": "code",
   "execution_count": null,
   "metadata": {},
   "outputs": [],
   "source": [
    "age = int(input(\"Enter your age: \"))\n",
    "weight = float(input(\"Enter your weight: \"))\n",
    "\n",
    "if weight < 15 or age < 3:\n",
    "    print(\"This medicine is not suitable for you.\")\n",
    "elif 15 <= weight <= 25:\n",
    "    print(\"You should take maximum 1/2 pill per day.\")\n",
    "elif 26 <= weight <= 40:\n",
    "    print(\"You should take maximum 1/2 to 1 pill per day.\")\n",
    "else:\n",
    "    print(\"You should take maximum 1 to 2 pills per day.\")\n"
   ]
  },
  {
   "cell_type": "markdown",
   "metadata": {},
   "source": [
    "---\n",
    "## Divisible **[1.5]**\n",
    "Let the user input a number. Check if the number is\n",
    "<ol type=\"a\">\n",
    "  <li>even or odd</li>\n",
    "  <li>is divisible by 5</li>\n",
    "  <li>is divisible by 5 and odd</li>\n",
    "</ol> "
   ]
  },
  {
   "cell_type": "code",
   "execution_count": null,
   "metadata": {},
   "outputs": [],
   "source": [
    "number = int(input(\"Enter a number: \"))\n",
    "\n",
    "## Even or odd\n",
    "if number % 2 == 0:\n",
    "    print(\"Your number is even.\")\n",
    "else:\n",
    "    print(\"Your number is odd.\")\n",
    "\n",
    "## Divisible by 5\n",
    "if number % 5 == 0:\n",
    "    print(\"Your number is divisible by 5.\")\n",
    "else:\n",
    "    print(\"Your number is not divisible by 5.\")\n",
    "\n",
    "## Divisible by 5 and odd\n",
    "if number % 5 == 0 and number % 2 != 0:\n",
    "    print(\"Your number is divisible by 5 and odd.\")\n"
   ]
  },
  {
   "cell_type": "markdown",
   "metadata": {},
   "source": [
    "---\n",
    "## Luggage size **[1.6]**\n",
    "\n",
    "The maximum allowed luggage size for boarding an airplane is: \n",
    "- weight: 8kg\n",
    "- dimensions: 55x40x23cm (length x width x height) \n",
    "\n",
    "Let the user input weight, length, width and height of the luggage. The program should check if the luggage is allowed or not."
   ]
  },
  {
   "cell_type": "code",
   "execution_count": null,
   "metadata": {},
   "outputs": [],
   "source": [
    "weight = float(input(\"Enter the luggage weight: \"))\n",
    "length = float(input(\"Enter the luggage dimensions length: \"))\n",
    "width = float(input(\"Enter the luggage dimensions width: \"))\n",
    "height = float(input(\"Enter the luggage dimensions height: \"))\n",
    "\n",
    "if weight <= 8 and length <= 55 and width <= 40 and height <= 23:\n",
    "    print(f\"This luggage is allowed on board.\")\n",
    "else:\n",
    "    print(f\"This luggage is not allowed on board.\")\n"
   ]
  }
 ],
 "metadata": {
  "kernelspec": {
   "display_name": ".venv",
   "language": "python",
   "name": "python3"
  },
  "language_info": {
   "codemirror_mode": {
    "name": "ipython",
    "version": 3
   },
   "file_extension": ".py",
   "mimetype": "text/x-python",
   "name": "python",
   "nbconvert_exporter": "python",
   "pygments_lexer": "ipython3",
   "version": "3.12.3"
  },
  "orig_nbformat": 4
 },
 "nbformat": 4,
 "nbformat_minor": 2
}
