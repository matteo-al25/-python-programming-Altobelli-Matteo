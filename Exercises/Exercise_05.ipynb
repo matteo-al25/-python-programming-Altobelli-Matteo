{
 "cells": [
  {
   "cell_type": "markdown",
   "metadata": {},
   "source": [
    "<a href=\"https://colab.research.google.com/github/pr0fez/AI24-Programmering/blob/master/Exercises/05-strings-exercise.ipynb\" target=\"_parent\"><img align=\"left\" src=\"https://colab.research.google.com/assets/colab-badge.svg\" alt=\"Open In Colab\"/></a> &nbsp; to see hints and answers."
   ]
  },
  {
   "cell_type": "markdown",
   "metadata": {},
   "source": [
    "#  Solving for exercises 05 - Strings \n",
    "\n",
    "---"
   ]
  },
  {
   "cell_type": "markdown",
   "metadata": {},
   "source": [
    "## Counting letters **[5.1]**\n",
    "\n",
    "Let the user input a word: \n",
    "\n",
    "&nbsp; a) &nbsp; print out the number of letters in the word. (*) \n",
    "  \n",
    "&nbsp; b) &nbsp; print out the number of **uppercase** and **lowercase** letters of the word (*)   \n"
   ]
  },
  {
   "cell_type": "code",
   "execution_count": null,
   "metadata": {},
   "outputs": [],
   "source": [
    "# number of letters\n",
    "word = input(\"Please enter a word: \")\n",
    "length = len(word)\n",
    "print(length)\n",
    "\n",
    "# number of upper/lowercase\n",
    "upper_count = sum(1 for char in word if char.isupper())\n",
    "lower_count = sum(1 for char in word if char.islower())\n",
    "print(upper_count)\n",
    "print(lower_count)    \n"
   ]
  },
  {
   "cell_type": "markdown",
   "metadata": {},
   "source": [
    "---\n",
    "## Counting words **[5.2]**\n",
    "\n",
    "Count the number of words in this sentence: \"A picture says more than a thousand words, a matematical formula says more than a thousand pictures.\" (*) \n",
    "\n",
    "<details>\n",
    "\n",
    "<summary>Answer</summary>\n",
    "\n",
    "```\n",
    "There are 17 words in that sentence\n",
    "```"
   ]
  },
  {
   "cell_type": "code",
   "execution_count": 3,
   "metadata": {},
   "outputs": [
    {
     "name": "stdout",
     "output_type": "stream",
     "text": [
      "17\n"
     ]
    }
   ],
   "source": [
    "text = \"A picture says more than a thousand words, a matematical formula says more than a thousand pictures\"\n",
    "word_count = len(text.split())\n",
    "print(word_count) \n"
   ]
  },
  {
   "cell_type": "markdown",
   "metadata": {},
   "source": [
    "---\n",
    "## Palindrome **[5.3]**\n",
    "\n",
    "A palindrome is a sequence of characters that is the same, when read forward as backwards (ignoring spaces). For example:\n",
    "- \"Anna\" is a palindrome\n",
    "- \"Ni talar bra latin\"\n",
    "- bjkjb \n",
    "\n",
    "Let the user input a sequence of characters and check if it is a palindrome. (*)"
   ]
  },
  {
   "cell_type": "code",
   "execution_count": null,
   "metadata": {},
   "outputs": [],
   "source": [
    "palindrome = input(\"Please enter a word or a serie of characters: \")\n",
    "\n",
    "if palindrome == palindrome[::-1]:\n",
    "    print(\"This is a palindrome\")\n",
    "else:\n",
    "    print(\"This is not a palindrome\")\n"
   ]
  },
  {
   "cell_type": "markdown",
   "metadata": {},
   "source": [
    "---\n",
    "## Vowels **[5.4]**\n",
    "\n",
    "Count the number of vowels in this sentence: \"Pure mathematics is, in its way, the poetry of logical ideas\"\n"
   ]
  },
  {
   "cell_type": "code",
   "execution_count": 7,
   "metadata": {},
   "outputs": [
    {
     "name": "stdout",
     "output_type": "stream",
     "text": [
      "20\n"
     ]
    }
   ],
   "source": [
    "number = 0\n",
    "\n",
    "sentence = (\"Pure mathematics is, in its way, the poetry of logical ideas\")\n",
    "vowels = {\"a\", \"e\", \"i\", \"o\", \"u\"}\n",
    "for char in sentence:\n",
    "    if char in vowels:\n",
    "        number += 1\n",
    "\n",
    "print(number)"
   ]
  },
  {
   "cell_type": "markdown",
   "metadata": {},
   "source": [
    "---\n",
    "## Encryption **[5.5]**\n",
    "\n",
    "Let the user input a word and: \n",
    "\n",
    "&nbsp; a) &nbsp; encrypt the message by replacing each letter with the next letter. If the letter is in the end of the alphabet, use the first letter instead. \n",
    "\n",
    "e.g. in Swedish: \"höst\" $\\rightarrow$ \"iatu\"\n",
    "\n",
    "&nbsp; b) &nbsp; decrypt the message\n",
    "\n",
    "&nbsp; c) &nbsp; let the user choose either encryption or decryption."
   ]
  },
  {
   "cell_type": "code",
   "execution_count": null,
   "metadata": {},
   "outputs": [
    {
     "name": "stdout",
     "output_type": "stream",
     "text": [
      "Your encrypted word is: hivbthevibt.\n"
     ]
    }
   ],
   "source": [
    "# input using the SWE alphabet\n",
    "word = input(\"Please enter a word: \")\n",
    "alphabet_swe = 'abcdefghijklmnopqrstuvwxyzåäö'\n",
    "\n",
    "# encryption\n",
    "encryption = \"\"\n",
    "for letter in word:\n",
    "    if letter in alphabet_swe:\n",
    "        current_pos = alphabet_swe.index(letter)\n",
    "        next_pos = (current_pos + 1) % len(alphabet_swe)\n",
    "        encryption += alphabet_swe[next_pos]\n",
    "    else:\n",
    "       print(f\"Please use only characters from the Swedish alphabet.\")\n",
    "\n",
    "# decryption\n",
    "decryption = \"\"\n",
    "for letter in encryption:\n",
    "    if letter in alphabet_swe:\n",
    "        current_pos = alphabet_swe.index(letter)\n",
    "        back_pos = (current_pos - 1) % len(alphabet_swe)\n",
    "        decryption += alphabet_swe[back_pos]\n",
    "    else:\n",
    "       print(f\"Please use only characters from the Swedish alphabet.\")\n",
    "\n",
    "\n",
    "choice = input(\"Would you like to encrypt your word or decrypt it? Answer E/D.\")\n",
    "if choice == 'E':\n",
    "    print(f\"Your encrypted word is: {encryption}.\")\n",
    "else:\n",
    "    print(f\"Your decrypted word is: {decryption}\")"
   ]
  }
 ],
 "metadata": {
  "kernelspec": {
   "display_name": ".venv",
   "language": "python",
   "name": "python3"
  },
  "language_info": {
   "codemirror_mode": {
    "name": "ipython",
    "version": 3
   },
   "file_extension": ".py",
   "mimetype": "text/x-python",
   "name": "python",
   "nbconvert_exporter": "python",
   "pygments_lexer": "ipython3",
   "version": "3.12.3"
  },
  "orig_nbformat": 4
 },
 "nbformat": 4,
 "nbformat_minor": 2
}
