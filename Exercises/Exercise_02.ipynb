{
 "cells": [
  {
   "cell_type": "markdown",
   "metadata": {},
   "source": [
    "# Solving for exercises 02\n",
    "---\n"
   ]
  },
  {
   "cell_type": "markdown",
   "metadata": {},
   "source": [
    "## Count numbers **[2.1]**\n",
    "\n",
    "Use a **while** statement to count from -10 to 10 with one increment. \n"
   ]
  },
  {
   "cell_type": "code",
   "execution_count": null,
   "metadata": {},
   "outputs": [],
   "source": [
    "## start counting at -10\n",
    "i = -10     \n",
    "while i <= 10:\n",
    "    print(i)\n",
    "    i += 1  \n",
    "    \n",
    "## increment by 1"
   ]
  },
  {
   "cell_type": "markdown",
   "metadata": {},
   "source": [
    "--- \n",
    "## Arithmetic sum **[2.2]**\n",
    "Use a **while** statement to compute the following sums: \n",
    "\n",
    "&nbsp; a) &nbsp; $\\text{sum} = 1 + 2 + \\ldots + 99+ 100$\n",
    "\n",
    "&nbsp; b) &nbsp; $\\text{sum} = 1 + 3 + 5 + \\ldots + 97 + 99$"
   ]
  },
  {
   "cell_type": "code",
   "execution_count": null,
   "metadata": {},
   "outputs": [],
   "source": [
    "## start total_a and sum_a\n",
    "total_a = 0\n",
    "sum_a = 1\n",
    "\n",
    "## loop adding 1 until sum_a is <= 100\n",
    "while sum_a <= 100:\n",
    "    total_a += sum_a\n",
    "    sum_a += 1\n",
    "print(total_a)\n",
    "\n",
    "## start total_b and sum_b\n",
    "total_b = 0\n",
    "sum_b = 1\n",
    "\n",
    "## loop adding 2 until sum_b is <=99\n",
    "while sum_b <= 99:\n",
    "    total_b += sum_b\n",
    "    sum_b += 2\n",
    "print(total_b)\n"
   ]
  },
  {
   "cell_type": "markdown",
   "metadata": {},
   "source": [
    "--- \n",
    "## Guess number game **[2.3]**\n",
    "&nbsp; a) &nbsp; Create a guessing number game following this flow chart: \n",
    "\n",
    "<img src=\"/home/emicr/-python-programming-Altobelli-Matteo/-python-programming-Altobelli-Matteo/Exercises/Assets/guessing_game.png\" width=\"250\" alt=\"Guessing Game\">"
   ]
  },
  {
   "cell_type": "code",
   "execution_count": null,
   "metadata": {},
   "outputs": [],
   "source": [
    "import random\n",
    "\n",
    "## randomize a number from 1 to 100\n",
    "a = 1\n",
    "b = 100\n",
    "guess_number = random.randint(a, b)\n",
    "\n",
    "## user guesses counter\n",
    "guesses = 0\n",
    "while True:\n",
    "    while True:\n",
    "        try:\n",
    "            number = int(input(f\"Guess a number between {a} and {b}: \"))\n",
    "\n",
    "            ## check if the number is acceptable\n",
    "            if a <= number <= b:\n",
    "                break\n",
    "            else:\n",
    "                print(f\"Invalid input. Please enter a whole number between {a} and {b}.\")\n",
    "        except ValueError:\n",
    "            print(f\"Invalid input. Please enter a valid number.\")\n",
    "    guesses += 1  \n",
    "\n",
    "\n",
    "## check if the number is correct\n",
    "    if number == guess_number:\n",
    "        print(f\"The number is correct, congratulations!\")\n",
    "        print(f\"You found the number in {guesses} guesses.\")\n",
    "        break \n",
    "    elif number < guess_number:\n",
    "        print(f\"The number is too low, try again.\")\n",
    "    else:\n",
    "        print(f\"The number is too high, try again.\")"
   ]
  },
  {
   "cell_type": "markdown",
   "metadata": {},
   "source": [
    "&nbsp; b) &nbsp; Make an algorithm to automatically guess the correct number. Can you optimize to get as few guesses as possible?"
   ]
  },
  {
   "cell_type": "markdown",
   "metadata": {},
   "source": [
    "--- \n",
    "## 4. Multiplication game (*)\n",
    "&nbsp; a) &nbsp; Create a multiplication game following this flow chart: \n",
    "\n",
    "<img align=\"left\" src=\"/home/emicr/-python-programming-Altobelli-Matteo/-python-programming-Altobelli-Matteo/Exercises/Assets/Multiplication_game.png\" width=\"300\"/>"
   ]
  },
  {
   "cell_type": "markdown",
   "metadata": {},
   "source": [
    "&nbsp; b) &nbsp; Add a menu for choosing difficulty level of the game\n",
    "\n",
    "&nbsp; c) &nbsp; Feel free to extend this program with features of your choice."
   ]
  },
  {
   "cell_type": "code",
   "execution_count": null,
   "metadata": {},
   "outputs": [],
   "source": [
    "import random\n",
    "\n",
    "\n",
    "\n",
    "i = 0  \n",
    "playing = True\n",
    "\n",
    "while playing:\n",
    "\n",
    "    difficult = input(f'Pick your difficulty: easy, medium or hard.')\n",
    "    if difficult == 'easy':\n",
    "        x = random.randint(1, 10)\n",
    "        y = random.randint(1, 10)\n",
    "    elif difficult == 'medium':\n",
    "        x = random.randint(1, 15)\n",
    "        y = random.randint(1, 15)\n",
    "    else:\n",
    "        x = random.randint(1, 20)\n",
    "        y = random.randint(1, 20)\n",
    "\n",
    "    # Calculate answer and get input with error handling\n",
    "    correct_answer = x * y\n",
    "    \n",
    "    while True:\n",
    "        try:\n",
    "            user_answer = int(input(f\"How much is {x} times {y}? \"))\n",
    "            break  # Exit the input loop if conversion succeeds\n",
    "        except ValueError:\n",
    "            print(\"Please enter a valid number!\")\n",
    "    \n",
    "    # Check answer and calculate score\n",
    "    if user_answer == correct_answer:\n",
    "        print('Good work!')\n",
    "        i += 1\n",
    "    else:\n",
    "        print(f'Wrong! The correct number was {correct_answer}')\n",
    "    \n",
    "    print(f'You guessed right {i} times.')\n",
    "    \n",
    "    # Ask to play again\n",
    "    while True:\n",
    "        user_choice = input(\"Do you want to play again? (yes/no): \")\n",
    "        if user_choice.lower() == \"yes\":\n",
    "            break\n",
    "        elif user_choice.lower() == \"no\":\n",
    "            print(\"Thanks for playing!\")\n",
    "            playing = False\n",
    "            break\n",
    "        else:\n",
    "            print('Please answer yes or no.')"
   ]
  },
  {
   "cell_type": "markdown",
   "metadata": {},
   "source": [
    "--- \n",
    "## 5. Check convergence (**)\n",
    "Use a while statement to compute the following sums: \n",
    "\n",
    "&nbsp; a) &nbsp; $\\text{sum} = 1 + \\frac{1}{2} + \\frac{1}{4} + \\frac{1}{8} + \\dots + \\frac{1}{2^n}$\n",
    "\n",
    "&nbsp; b) &nbsp; $\\text{sum} = 1 - \\frac{1}{3} + \\frac{1}{5} - \\frac{1}{7} + \\dots + \\frac{(-1)^n}{2n+1}$\n",
    "\n",
    "Try different values on $n$ to see which value it converges to.\n"
   ]
  },
  {
   "cell_type": "code",
   "execution_count": null,
   "metadata": {},
   "outputs": [],
   "source": [
    "# Series A\n",
    "n = 1010\n",
    "sum_a = 0\n",
    "i = 0\n",
    "while i <= n:\n",
    "    sum_a += 1 / (2 ** i)\n",
    "    i += 1\n",
    "print(f\"A: {sum_a}\")\n",
    "\n",
    "# Series B  \n",
    "n = 1010\n",
    "sum_b = 0\n",
    "i = 0\n",
    "while i <= n:\n",
    "    sum_b += ((-1) ** i) / (2 * i + 1)\n",
    "    i += 1\n",
    "print(f\"B: {sum_b}\")"
   ]
  }
 ],
 "metadata": {
  "kernelspec": {
   "display_name": ".venv",
   "language": "python",
   "name": "python3"
  },
  "language_info": {
   "codemirror_mode": {
    "name": "ipython",
    "version": 3
   },
   "file_extension": ".py",
   "mimetype": "text/x-python",
   "name": "python",
   "nbconvert_exporter": "python",
   "pygments_lexer": "ipython3",
   "version": "3.12.3"
  },
  "orig_nbformat": 4
 },
 "nbformat": 4,
 "nbformat_minor": 2
}
