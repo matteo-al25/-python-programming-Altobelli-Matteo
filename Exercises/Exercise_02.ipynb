{
 "cells": [
  {
   "cell_type": "markdown",
   "metadata": {},
   "source": [
    "# Solving for exercises 02\n",
    "---\n"
   ]
  },
  {
   "cell_type": "markdown",
   "metadata": {},
   "source": [
    "## Count numbers **[2.1]**\n",
    "\n",
    "Use a **while** statement to count from -10 to 10 with one increment. \n"
   ]
  },
  {
   "cell_type": "code",
   "execution_count": null,
   "metadata": {},
   "outputs": [],
   "source": [
    "## start counting at -10\n",
    "i = -10     \n",
    "while i <= 10:\n",
    "    print(i)\n",
    "    i += 1  \n",
    "    \n",
    "## increment by 1"
   ]
  },
  {
   "cell_type": "markdown",
   "metadata": {},
   "source": [
    "--- \n",
    "## Arithmetic sum **[2.2]**\n",
    "Use a **while** statement to compute the following sums: \n",
    "\n",
    "&nbsp; a) &nbsp; $\\text{sum} = 1 + 2 + \\ldots + 99+ 100$\n",
    "\n",
    "&nbsp; b) &nbsp; $\\text{sum} = 1 + 3 + 5 + \\ldots + 97 + 99$"
   ]
  },
  {
   "cell_type": "code",
   "execution_count": null,
   "metadata": {},
   "outputs": [],
   "source": [
    "## start total_a and sum_a\n",
    "total_a = 0\n",
    "sum_a = 1\n",
    "\n",
    "## loop adding 1 until sum_a is <= 100\n",
    "while sum_a <= 100:\n",
    "    total_a += sum_a\n",
    "    sum_a += 1\n",
    "print(total_a)\n",
    "\n",
    "## start total_b and sum_b\n",
    "total_b = 0\n",
    "sum_b = 1\n",
    "\n",
    "## loop adding 2 until sum_b is <=99\n",
    "while sum_b <= 99:\n",
    "    total_b += sum_b\n",
    "    sum_b += 2\n",
    "print(total_b)\n"
   ]
  },
  {
   "cell_type": "markdown",
   "metadata": {},
   "source": [
    "--- \n",
    "## Guess number game **[2.3]**\n",
    "&nbsp; a) &nbsp; Create a guessing number game following this flow chart: \n",
    "\n",
    "<img src=\"/home/emicr/-python-programming-Altobelli-Matteo/-python-programming-Altobelli-Matteo/Exercises/Assets/guessing_game.png\" width=\"250\" alt=\"Guessing Game\">"
   ]
  },
  {
   "cell_type": "code",
   "execution_count": 2,
   "metadata": {},
   "outputs": [
    {
     "name": "stdout",
     "output_type": "stream",
     "text": [
      "The number is too low, try again.\n",
      "The number is too low, try again.\n",
      "The number is too low, try again.\n",
      "The number is too high, try again.\n",
      "The number is too high, try again.\n",
      "The number is too high, try again.\n",
      "The number is too high, try again.\n",
      "The number is correct, congratulations!\n",
      "You found the number in 8 guesses.\n"
     ]
    }
   ],
   "source": [
    "import random\n",
    "\n",
    "## randomize a number from 1 to 100\n",
    "a = 1\n",
    "b = 100\n",
    "guess_number = random.randint(a, b)\n",
    "\n",
    "## user guesses counter\n",
    "guesses = 0\n",
    "while True:\n",
    "    while True:\n",
    "        try:\n",
    "            number = int(input(f\"Guess a number between {a} and {b}: \"))\n",
    "\n",
    "            ## check if the number is acceptable\n",
    "            if a <= number <= b:\n",
    "                break\n",
    "            else:\n",
    "                print(f\"Invalid input. Please enter a whole number between {a} and {b}.\")\n",
    "        except ValueError:\n",
    "            print(f\"Invalid input. Please enter a valid number.\")\n",
    "    guesses += 1  \n",
    "\n",
    "\n",
    "## check if the number is correct\n",
    "    if number == guess_number:\n",
    "        print(f\"The number is correct, congratulations!\")\n",
    "        print(f\"You found the number in {guesses} guesses.\")\n",
    "        break \n",
    "    elif number < guess_number:\n",
    "        print(f\"The number is too low, try again.\")\n",
    "    else:\n",
    "        print(f\"The number is too high, try again.\")"
   ]
  },
  {
   "cell_type": "markdown",
   "metadata": {},
   "source": [
    "&nbsp; b) &nbsp; Make an algorithm to automatically guess the correct number. Can you optimize to get as few guesses as possible?"
   ]
  },
  {
   "cell_type": "markdown",
   "metadata": {},
   "source": [
    "--- \n",
    "## 4. Multiplication game (*)\n",
    "&nbsp; a) &nbsp; Create a multiplication game following this flow chart: \n",
    "\n",
    "<img align=\"left\" src=\"../assets/Multiplication_game.png\" width=\"300\"/>"
   ]
  },
  {
   "cell_type": "markdown",
   "metadata": {},
   "source": [
    "&nbsp; b) &nbsp; Add a menu for choosing difficulty level of the game\n",
    "\n",
    "&nbsp; c) &nbsp; Feel free to extend this program with features of your choice."
   ]
  },
  {
   "cell_type": "code",
   "execution_count": null,
   "metadata": {},
   "outputs": [],
   "source": []
  },
  {
   "cell_type": "markdown",
   "metadata": {},
   "source": [
    "--- \n",
    "## 5. Check convergence (**)\n",
    "Use a while statement to compute the following sums: \n",
    "\n",
    "&nbsp; a) &nbsp; $\\text{sum} = 1 + \\frac{1}{2} + \\frac{1}{4} + \\frac{1}{8} + \\dots + \\frac{1}{2^n}$\n",
    "\n",
    "&nbsp; b) &nbsp; $\\text{sum} = 1 - \\frac{1}{3} + \\frac{1}{5} - \\frac{1}{7} + \\dots + \\frac{(-1)^n}{2n+1}$\n",
    "\n",
    "Try different values on $n$ to see which value it converges to.\n",
    "\n",
    "<details>\n",
    "\n",
    "<summary>Answer </summary>\n",
    "\n",
    "&nbsp; a) &nbsp; $1 + \\frac{1}{2} + \\frac{1}{4} + \\frac{1}{8} + \\dots + \\frac{1}{2^n} \\xrightarrow[n\\rightarrow \\infty]{} 2$ \n",
    "\n",
    "&nbsp; b) &nbsp; $ 1 - \\frac{1}{3} + \\frac{1}{5} - \\frac{1}{7} + \\dots + \\frac{(-1)^n}{2n+1} \\xrightarrow[n\\rightarrow \\infty]{} \\frac{\\pi}{4}$\n",
    "\n",
    "</details>"
   ]
  },
  {
   "cell_type": "code",
   "execution_count": null,
   "metadata": {},
   "outputs": [
    {
     "name": "stdout",
     "output_type": "stream",
     "text": [
      "0\n",
      "-0.4545454545454546\n",
      "0.47619047619047616\n",
      "-0.4838709677419353\n",
      "0.48780487804878064\n",
      "-0.4901960784313723\n",
      "0.4918032786885248\n",
      "-0.49295774647887297\n",
      "0.49382716049382713\n",
      "-0.49450549450549475\n",
      "0.4950495049504953\n",
      "-0.49549549549549593\n",
      "0.49586776859504056\n",
      "-0.49618320610687083\n",
      "0.49645390070922035\n",
      "-0.4966887417218537\n",
      "0.49689440993788886\n",
      "-0.49707602339181284\n",
      "0.49723756906077254\n",
      "-0.49738219895288\n",
      "0.49751243781094434\n",
      "0.5235987755982988\n"
     ]
    }
   ],
   "source": [
    "n = 0\n",
    "while n <= 100:\n",
    "    print(sum([np.pow(-1.0, n) / (2*n+1) for i in range(n)]))\n",
    "    n += 1"
   ]
  },
  {
   "cell_type": "markdown",
   "metadata": {},
   "source": [
    "---\n",
    "\n",
    "pr0fez Giang\n",
    "\n",
    "[LinkedIn][linkedIn_pr0fez]\n",
    "\n",
    "[GitHub portfolio][github_portfolio]\n",
    "\n",
    "[linkedIn_pr0fez]: https://www.linkedin.com/in/pr0fezgiang/\n",
    "[github_portfolio]: https://github.com/pr0fez/Portfolio-pr0fez-Giang\n",
    "\n",
    "---"
   ]
  }
 ],
 "metadata": {
  "kernelspec": {
   "display_name": ".venv",
   "language": "python",
   "name": "python3"
  },
  "language_info": {
   "codemirror_mode": {
    "name": "ipython",
    "version": 3
   },
   "file_extension": ".py",
   "mimetype": "text/x-python",
   "name": "python",
   "nbconvert_exporter": "python",
   "pygments_lexer": "ipython3",
   "version": "3.12.3"
  },
  "orig_nbformat": 4
 },
 "nbformat": 4,
 "nbformat_minor": 2
}
